{
 "cells": [
  {
   "cell_type": "code",
   "execution_count": 16,
   "metadata": {},
   "outputs": [],
   "source": [
    "import pandas as pd\n",
    "import fun as fn\n",
    "import datos as dt\n",
    "\n",
    "OA_In = \"EUR_USD\"                  # Instrumento\n",
    "OA_Gn = \"M15\"                        # Granularidad de velas\n",
    "fini = pd.to_datetime(\"2020-01-17 00:00:00\").tz_localize('GMT')  # Fecha inicial\n",
    "ffin = pd.to_datetime(\"2020-02-21 00:00:00\").tz_localize('GMT')  # Fecha final\n",
    "\n",
    "# Descargar precios masivos\n",
    "df_pe = fn.f_precios_masivos(p0_fini=fini, p1_ffin=ffin, p2_gran=OA_Gn,\n",
    "                             p3_inst=OA_In, p4_oatk=dt.oa_token, p5_ginc=4900)\n",
    "# multiplicador de precios\n",
    "pip_mult = 10000"
   ]
  },
  {
   "cell_type": "code",
   "execution_count": 17,
   "metadata": {},
   "outputs": [
    {
     "data": {
      "text/html": [
       "<div>\n",
       "<style scoped>\n",
       "    .dataframe tbody tr th:only-of-type {\n",
       "        vertical-align: middle;\n",
       "    }\n",
       "\n",
       "    .dataframe tbody tr th {\n",
       "        vertical-align: top;\n",
       "    }\n",
       "\n",
       "    .dataframe thead th {\n",
       "        text-align: right;\n",
       "    }\n",
       "</style>\n",
       "<table border=\"1\" class=\"dataframe\">\n",
       "  <thead>\n",
       "    <tr style=\"text-align: right;\">\n",
       "      <th></th>\n",
       "      <th>TimeStamp</th>\n",
       "      <th>Open</th>\n",
       "      <th>High</th>\n",
       "      <th>Low</th>\n",
       "      <th>Close</th>\n",
       "    </tr>\n",
       "  </thead>\n",
       "  <tbody>\n",
       "    <tr>\n",
       "      <th>0</th>\n",
       "      <td>2020-01-17 05:00:00</td>\n",
       "      <td>1.11322</td>\n",
       "      <td>1.11340</td>\n",
       "      <td>1.11320</td>\n",
       "      <td>1.11336</td>\n",
       "    </tr>\n",
       "    <tr>\n",
       "      <th>1</th>\n",
       "      <td>2020-01-17 05:15:00</td>\n",
       "      <td>1.11335</td>\n",
       "      <td>1.11356</td>\n",
       "      <td>1.11332</td>\n",
       "      <td>1.11346</td>\n",
       "    </tr>\n",
       "    <tr>\n",
       "      <th>2</th>\n",
       "      <td>2020-01-17 05:30:00</td>\n",
       "      <td>1.11347</td>\n",
       "      <td>1.11377</td>\n",
       "      <td>1.11346</td>\n",
       "      <td>1.11376</td>\n",
       "    </tr>\n",
       "    <tr>\n",
       "      <th>3</th>\n",
       "      <td>2020-01-17 05:45:00</td>\n",
       "      <td>1.11374</td>\n",
       "      <td>1.11377</td>\n",
       "      <td>1.11362</td>\n",
       "      <td>1.11366</td>\n",
       "    </tr>\n",
       "    <tr>\n",
       "      <th>4</th>\n",
       "      <td>2020-01-17 06:00:00</td>\n",
       "      <td>1.11366</td>\n",
       "      <td>1.11366</td>\n",
       "      <td>1.11348</td>\n",
       "      <td>1.11356</td>\n",
       "    </tr>\n",
       "  </tbody>\n",
       "</table>\n",
       "</div>"
      ],
      "text/plain": [
       "            TimeStamp     Open     High      Low    Close\n",
       "0 2020-01-17 05:00:00  1.11322  1.11340  1.11320  1.11336\n",
       "1 2020-01-17 05:15:00  1.11335  1.11356  1.11332  1.11346\n",
       "2 2020-01-17 05:30:00  1.11347  1.11377  1.11346  1.11376\n",
       "3 2020-01-17 05:45:00  1.11374  1.11377  1.11362  1.11366\n",
       "4 2020-01-17 06:00:00  1.11366  1.11366  1.11348  1.11356"
      ]
     },
     "execution_count": 17,
     "metadata": {},
     "output_type": "execute_result"
    }
   ],
   "source": [
    "df_pe.head()"
   ]
  },
  {
   "cell_type": "code",
   "execution_count": 12,
   "metadata": {},
   "outputs": [],
   "source": [
    "# -- 0A.1: Hora\n",
    "df_pe['hora'] = [df_pe['TimeStamp'][i].hour for i in range(0, len(df_pe['TimeStamp']))]\n",
    "\n",
    "# -- 0A.2: Dia de la semana.\n",
    "df_pe['dia'] = [df_pe['TimeStamp'][i].weekday() for i in range(0, len(df_pe['TimeStamp']))]\n",
    "\n",
    "# -- 0B: Boxplot de amplitud de velas (close - open).\n",
    "df_pe['co'] = (df_pe['Close'] - df_pe['Open'])*pip_mult"
   ]
  },
  {
   "cell_type": "code",
   "execution_count": 13,
   "metadata": {},
   "outputs": [],
   "source": [
    "# -- 01: ['mes'] : Mes de la vela.\n",
    "df_pe['mes'] = [df_pe['TimeStamp'][i].month for i in range(0, len(df_pe['TimeStamp']))]"
   ]
  },
  {
   "cell_type": "code",
   "execution_count": null,
   "metadata": {},
   "outputs": [],
   "source": []
  }
 ],
 "metadata": {
  "kernelspec": {
   "display_name": "Python 3",
   "language": "python",
   "name": "python3"
  },
  "language_info": {
   "codemirror_mode": {
    "name": "ipython",
    "version": 3
   },
   "file_extension": ".py",
   "mimetype": "text/x-python",
   "name": "python",
   "nbconvert_exporter": "python",
   "pygments_lexer": "ipython3",
   "version": "3.7.1"
  }
 },
 "nbformat": 4,
 "nbformat_minor": 2
}
