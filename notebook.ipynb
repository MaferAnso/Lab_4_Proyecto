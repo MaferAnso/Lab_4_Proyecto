{
 "cells": [
  {
   "cell_type": "markdown",
   "metadata": {},
   "source": [
    "<img src=\"http://oci02.img.iteso.mx/identidad_de_instancia_2018/ITESO/Logos%20ITESO/Logo-ITESO-Principal.jpg\">"
   ]
  },
  {
   "cell_type": "markdown",
   "metadata": {},
   "source": [
    "<center> <font color= #004A94> <font size = 5> Ingeniería Financiera | ITESO </font> <br> <br>"
   ]
  },
  {
   "cell_type": "markdown",
   "metadata": {},
   "source": [
    "<center> <font color= #004A94> <font size = 6> Microestructura y Sistemas de Trading </font> <br> <br>"
   ]
  },
  {
   "cell_type": "markdown",
   "metadata": {},
   "source": [
    "<center> <font color=#154360><font size=7> Proyecto <br> <br> Análisis Fundamental </font> <br> <br>"
   ]
  },
  {
   "cell_type": "markdown",
   "metadata": {},
   "source": [
    "<center> <font color=#004A94><font size=5> Equipo 2 </font> <br> <br>"
   ]
  },
  {
   "cell_type": "markdown",
   "metadata": {},
   "source": [
    "<center> <font color=#0091EA><font size=4> I.F. Maria Fernanda Ansoleaga | @iteso.mx </font> <br> <br>\n",
    "<center> <font color=#0091EA><font size=4> I.F. Lidia Natasha Gamez  | if709031@iteso.mx </font> <br> <br>\n",
    "<center> <font color=#0091EA><font size=4> I.F. Tamara Martinez | if709156@iteso.mx </font> <br> <br>"
   ]
  },
  {
   "cell_type": "markdown",
   "metadata": {},
   "source": [
    "# Abstract\n",
    "Este laboratorio tiene como propósito principal..."
   ]
  },
  {
   "cell_type": "markdown",
   "metadata": {},
   "source": [
    "## Aspectos Financieros\n",
    "..."
   ]
  },
  {
   "cell_type": "markdown",
   "metadata": {},
   "source": [
    "## Aspectos estadísticos"
   ]
  },
  {
   "cell_type": "markdown",
   "metadata": {},
   "source": [
    "Para poder iniciar con el análisis estadístico se debe observar la gráfica de los valores actuales del indicador. Se van a obtener las características de esta serie de tiempo con el propósito de apoyar la estrategia de inversión que se muestra en este proyecto."
   ]
  },
  {
   "cell_type": "code",
   "execution_count": 1,
   "metadata": {},
   "outputs": [
    {
     "name": "stderr",
     "output_type": "stream",
     "text": [
      "/anaconda3/lib/python3.7/site-packages/statsmodels/compat/pandas.py:49: FutureWarning: The Panel class is removed from pandas. Accessing it from the top-level namespace will also be removed in the next version\n",
      "  data_klasses = (pandas.Series, pandas.DataFrame, pandas.Panel)\n"
     ]
    },
    {
     "data": {
      "text/html": [
       "        <script type=\"text/javascript\">\n",
       "        window.PlotlyConfig = {MathJaxConfig: 'local'};\n",
       "        if (window.MathJax) {MathJax.Hub.Config({SVG: {font: \"STIX-Web\"}});}\n",
       "        if (typeof require !== 'undefined') {\n",
       "        require.undef(\"plotly\");\n",
       "        requirejs.config({\n",
       "            paths: {\n",
       "                'plotly': ['https://cdn.plot.ly/plotly-latest.min']\n",
       "            }\n",
       "        });\n",
       "        require(['plotly'], function(Plotly) {\n",
       "            window._Plotly = Plotly;\n",
       "        });\n",
       "        }\n",
       "        </script>\n",
       "        "
      ]
     },
     "metadata": {},
     "output_type": "display_data"
    }
   ],
   "source": [
    "import funciones as fn\n",
    "import visualizaciones as vn\n",
    "import pandas as pd\n",
    "import numpy as np"
   ]
  },
  {
   "cell_type": "code",
   "execution_count": 2,
   "metadata": {},
   "outputs": [],
   "source": [
    "datos = fn.f_leer_archivo(param_archivo='data2.xlsx')"
   ]
  },
  {
   "cell_type": "code",
   "execution_count": 3,
   "metadata": {},
   "outputs": [
    {
     "data": {
      "application/vnd.plotly.v1+json": {
       "config": {
        "plotlyServerURL": "https://plot.ly"
       },
       "data": [
        {
         "line": {
          "color": "blue"
         },
         "mode": "lines",
         "name": "Serie de tiempo del valor Actual",
         "type": "scatter",
         "x": [
          "2020-04-17T09:00:00",
          "2020-03-18T09:00:00",
          "2020-02-21T09:00:00",
          "2020-01-17T09:00:00",
          "2019-12-18T09:00:00",
          "2019-11-15T09:00:00",
          "2019-10-16T09:00:00",
          "2019-09-18T09:00:00",
          "2019-08-19T09:00:00",
          "2019-07-17T09:00:00",
          "2019-06-18T09:00:00",
          "2019-05-17T09:00:00",
          "2019-04-17T09:00:00",
          "2019-03-15T09:00:00",
          "2019-02-22T09:00:00",
          "2019-01-17T09:00:00",
          "2018-12-17T09:00:00",
          "2018-11-16T09:00:00",
          "2018-10-17T09:00:00",
          "2018-09-17T09:00:00",
          "2018-08-17T09:00:00",
          "2018-07-18T09:00:00",
          "2018-06-15T09:00:00",
          "2018-05-16T09:00:00",
          "2018-04-18T09:00:00",
          "2018-03-16T09:00:00",
          "2018-02-23T09:00:00",
          "2018-01-17T09:00:00",
          "2017-12-18T09:00:00",
          "2017-11-16T09:00:00",
          "2017-10-17T09:00:00",
          "2017-09-18T09:00:00",
          "2017-08-17T09:00:00",
          "2017-07-17T09:00:00",
          "2017-06-16T09:00:00",
          "2017-05-17T09:00:00",
          "2017-04-19T09:00:00",
          "2017-03-16T09:00:00",
          "2017-02-22T09:00:00",
          "2017-01-18T09:00:00",
          "2016-12-16T09:00:00",
          "2016-11-17T09:00:00",
          "2016-10-17T09:00:00",
          "2016-09-15T09:00:00",
          "2016-08-18T09:00:00",
          "2016-07-15T09:00:00",
          "2016-06-16T09:00:00",
          "2016-05-18T09:00:00",
          "2016-04-14T09:00:00",
          "2016-03-17T09:00:00",
          "2016-02-25T09:00:00",
          "2016-01-19T09:00:00",
          "2015-12-16T09:00:00",
          "2015-11-16T09:00:00",
          "2015-10-16T09:00:00",
          "2015-09-16T09:00:00",
          "2015-08-14T09:00:00",
          "2015-07-16T09:00:00",
          "2015-06-17T09:00:00",
          "2015-05-19T09:00:00",
          "2015-04-17T09:00:00",
          "2015-03-17T09:00:00",
          "2015-02-24T09:00:00",
          "2015-01-16T09:00:00",
          "2014-12-17T09:00:00",
          "2014-11-14T09:00:00",
          "2014-10-16T09:00:00",
          "2014-09-17T09:00:00",
          "2014-08-14T09:00:00",
          "2014-07-17T09:00:00",
          "2014-06-16T09:00:00",
          "2014-05-15T09:00:00",
          "2014-04-16T09:00:00",
          "2014-03-17T09:00:00",
          "2014-02-24T09:00:00",
          "2014-01-16T09:00:00",
          "2013-12-17T09:00:00",
          "2013-11-15T09:00:00",
          "2013-10-16T09:00:00",
          "2013-09-16T09:00:00",
          "2013-08-16T09:00:00",
          "2013-07-16T09:00:00",
          "2013-06-14T09:00:00",
          "2013-05-16T09:00:00",
          "2013-04-16T09:00:00",
          "2013-03-15T09:00:00",
          "2013-02-28T09:00:00",
          "2013-01-16T09:00:00",
          "2012-12-14T09:00:00",
          "2012-11-15T09:00:00",
          "2012-10-16T09:00:00",
          "2012-09-14T09:00:00",
          "2012-08-16T09:00:00",
          "2012-07-16T09:00:00",
          "2012-06-14T09:00:00",
          "2012-05-16T09:00:00",
          "2012-04-17T09:00:00",
          "2012-03-14T09:00:00",
          "2012-02-29T09:00:00",
          "2012-01-17T09:00:00",
          "2011-12-15T09:00:00",
          "2011-11-16T09:00:00",
          "2011-10-14T09:00:00",
          "2011-09-14T09:00:00",
          "2011-08-15T09:00:00",
          "2011-07-17T09:00:00",
          "2011-06-14T09:00:00",
          "2011-06-16T09:00:00",
          "2011-05-16T09:00:00",
          "2011-04-15T09:00:00",
          "2011-03-16T09:00:00",
          "2011-02-14T09:00:00",
          "2010-01-14T09:00:00",
          "2010-11-16T09:00:00",
          "2010-10-15T09:00:00",
          "2010-09-15T09:00:00",
          "2010-08-16T09:00:00",
          "2010-07-14T09:00:00",
          "2010-06-16T09:00:00",
          "2010-05-18T09:00:00",
          "2010-04-16T09:00:00",
          "2010-03-16T09:00:00",
          "2010-02-26T09:00:00",
          "2010-01-15T09:00:00",
          "2009-12-16T09:00:00",
          "2009-11-16T09:00:00",
          "2009-10-15T09:00:00",
          "2009-09-16T09:00:00",
          "2009-08-14T09:00:00",
          "2009-07-15T09:00:00",
          "2009-06-16T09:00:00",
          "2009-05-15T09:00:00",
          "2009-04-16T09:00:00",
          "2009-03-15T09:00:00",
          "2009-02-27T09:00:00",
          "2009-01-15T09:00:00",
          "2008-12-17T09:00:00",
          "2008-11-14T09:00:00",
          "2008-10-15T09:00:00",
          "2008-09-16T09:00:00",
          "2008-08-14T09:00:00",
          "2008-07-16T09:00:00",
          "2008-06-16T09:00:00",
          "2008-05-15T09:00:00",
          "2008-04-16T09:00:00",
          "2008-03-14T09:00:00",
          "2008-02-29T09:00:00",
          "2008-01-16T09:00:00",
          "2007-12-14T09:00:00",
          "2007-11-15T09:00:00",
          "2007-10-16T09:00:00",
          "2007-09-14T09:00:00",
          "2007-08-16T09:00:00",
          "2007-07-16T09:00:00",
          "2007-06-14T09:00:00",
          "2007-05-16T09:00:00",
          "2007-04-16T09:00:00",
          "2007-03-15T09:00:00",
          "2007-02-28T09:00:00"
         ],
         "y": [
          0.5,
          0.2,
          -1,
          0.3,
          -0.3,
          0.1,
          0.2,
          0.1,
          -0.5,
          0.2,
          0.1,
          0.7,
          1,
          0.3,
          -1,
          0,
          -0.2,
          0.2,
          0.5,
          0.2,
          -0.3,
          0.1,
          0.5,
          0.3,
          1,
          0.2,
          -0.9,
          0.4,
          0.1,
          0.1,
          0.4,
          0.3,
          -0.5,
          0,
          -0.1,
          0.4,
          0.8,
          0.4,
          -0.8,
          0.5,
          -0.1,
          0.2,
          0.4,
          0.1,
          -0.6,
          0.2,
          0.4,
          0,
          1.2,
          0.2,
          -1.4,
          0,
          -0.1,
          0.1,
          0.2,
          0,
          -0.6,
          0,
          0.2,
          0.2,
          1.1,
          0.6,
          -1.6,
          -0.1,
          -0.2,
          0,
          0.4,
          0.1,
          -0.7,
          0.1,
          -0.1,
          0.2,
          0.9,
          0.3,
          -1.1,
          0.3,
          -0.1,
          -0.1,
          0.5,
          0.1,
          -0.5,
          0.1,
          0.1,
          -0.1,
          1.2,
          0.4,
          -1,
          0.4,
          -0.2,
          0.2,
          0.7,
          0.4,
          -0.5,
          -0.1,
          -0.1,
          0.5,
          1.3,
          0.5,
          -0.8,
          0.3,
          0.1,
          0.3,
          0.8,
          0.2,
          -0.6,
          0,
          0,
          0.6,
          1.4,
          0.4,
          -0.7,
          0.6,
          0.1,
          0.4,
          0.2,
          0.2,
          -0.3,
          0,
          0.1,
          0.5,
          0.9,
          0.3,
          -0.8,
          0.3,
          0.1,
          0.2,
          0,
          0.3,
          -0.7,
          0.2,
          0.1,
          0.4,
          0.4,
          0.4,
          -0.8,
          -0.1,
          -0.5,
          0,
          0.2,
          -0.1,
          -0.2,
          0.4,
          0.6,
          0.3,
          1,
          0.3,
          -0.4,
          0.4,
          0.5,
          0.5,
          0.4,
          0.1,
          -0.2,
          0.1,
          0.2,
          0.6,
          0.7,
          0.3,
          -0.5
         ]
        }
       ],
       "layout": {
        "template": {
         "data": {
          "bar": [
           {
            "error_x": {
             "color": "#2a3f5f"
            },
            "error_y": {
             "color": "#2a3f5f"
            },
            "marker": {
             "line": {
              "color": "#E5ECF6",
              "width": 0.5
             }
            },
            "type": "bar"
           }
          ],
          "barpolar": [
           {
            "marker": {
             "line": {
              "color": "#E5ECF6",
              "width": 0.5
             }
            },
            "type": "barpolar"
           }
          ],
          "carpet": [
           {
            "aaxis": {
             "endlinecolor": "#2a3f5f",
             "gridcolor": "white",
             "linecolor": "white",
             "minorgridcolor": "white",
             "startlinecolor": "#2a3f5f"
            },
            "baxis": {
             "endlinecolor": "#2a3f5f",
             "gridcolor": "white",
             "linecolor": "white",
             "minorgridcolor": "white",
             "startlinecolor": "#2a3f5f"
            },
            "type": "carpet"
           }
          ],
          "choropleth": [
           {
            "colorbar": {
             "outlinewidth": 0,
             "ticks": ""
            },
            "type": "choropleth"
           }
          ],
          "contour": [
           {
            "colorbar": {
             "outlinewidth": 0,
             "ticks": ""
            },
            "colorscale": [
             [
              0,
              "#0d0887"
             ],
             [
              0.1111111111111111,
              "#46039f"
             ],
             [
              0.2222222222222222,
              "#7201a8"
             ],
             [
              0.3333333333333333,
              "#9c179e"
             ],
             [
              0.4444444444444444,
              "#bd3786"
             ],
             [
              0.5555555555555556,
              "#d8576b"
             ],
             [
              0.6666666666666666,
              "#ed7953"
             ],
             [
              0.7777777777777778,
              "#fb9f3a"
             ],
             [
              0.8888888888888888,
              "#fdca26"
             ],
             [
              1,
              "#f0f921"
             ]
            ],
            "type": "contour"
           }
          ],
          "contourcarpet": [
           {
            "colorbar": {
             "outlinewidth": 0,
             "ticks": ""
            },
            "type": "contourcarpet"
           }
          ],
          "heatmap": [
           {
            "colorbar": {
             "outlinewidth": 0,
             "ticks": ""
            },
            "colorscale": [
             [
              0,
              "#0d0887"
             ],
             [
              0.1111111111111111,
              "#46039f"
             ],
             [
              0.2222222222222222,
              "#7201a8"
             ],
             [
              0.3333333333333333,
              "#9c179e"
             ],
             [
              0.4444444444444444,
              "#bd3786"
             ],
             [
              0.5555555555555556,
              "#d8576b"
             ],
             [
              0.6666666666666666,
              "#ed7953"
             ],
             [
              0.7777777777777778,
              "#fb9f3a"
             ],
             [
              0.8888888888888888,
              "#fdca26"
             ],
             [
              1,
              "#f0f921"
             ]
            ],
            "type": "heatmap"
           }
          ],
          "heatmapgl": [
           {
            "colorbar": {
             "outlinewidth": 0,
             "ticks": ""
            },
            "colorscale": [
             [
              0,
              "#0d0887"
             ],
             [
              0.1111111111111111,
              "#46039f"
             ],
             [
              0.2222222222222222,
              "#7201a8"
             ],
             [
              0.3333333333333333,
              "#9c179e"
             ],
             [
              0.4444444444444444,
              "#bd3786"
             ],
             [
              0.5555555555555556,
              "#d8576b"
             ],
             [
              0.6666666666666666,
              "#ed7953"
             ],
             [
              0.7777777777777778,
              "#fb9f3a"
             ],
             [
              0.8888888888888888,
              "#fdca26"
             ],
             [
              1,
              "#f0f921"
             ]
            ],
            "type": "heatmapgl"
           }
          ],
          "histogram": [
           {
            "marker": {
             "colorbar": {
              "outlinewidth": 0,
              "ticks": ""
             }
            },
            "type": "histogram"
           }
          ],
          "histogram2d": [
           {
            "colorbar": {
             "outlinewidth": 0,
             "ticks": ""
            },
            "colorscale": [
             [
              0,
              "#0d0887"
             ],
             [
              0.1111111111111111,
              "#46039f"
             ],
             [
              0.2222222222222222,
              "#7201a8"
             ],
             [
              0.3333333333333333,
              "#9c179e"
             ],
             [
              0.4444444444444444,
              "#bd3786"
             ],
             [
              0.5555555555555556,
              "#d8576b"
             ],
             [
              0.6666666666666666,
              "#ed7953"
             ],
             [
              0.7777777777777778,
              "#fb9f3a"
             ],
             [
              0.8888888888888888,
              "#fdca26"
             ],
             [
              1,
              "#f0f921"
             ]
            ],
            "type": "histogram2d"
           }
          ],
          "histogram2dcontour": [
           {
            "colorbar": {
             "outlinewidth": 0,
             "ticks": ""
            },
            "colorscale": [
             [
              0,
              "#0d0887"
             ],
             [
              0.1111111111111111,
              "#46039f"
             ],
             [
              0.2222222222222222,
              "#7201a8"
             ],
             [
              0.3333333333333333,
              "#9c179e"
             ],
             [
              0.4444444444444444,
              "#bd3786"
             ],
             [
              0.5555555555555556,
              "#d8576b"
             ],
             [
              0.6666666666666666,
              "#ed7953"
             ],
             [
              0.7777777777777778,
              "#fb9f3a"
             ],
             [
              0.8888888888888888,
              "#fdca26"
             ],
             [
              1,
              "#f0f921"
             ]
            ],
            "type": "histogram2dcontour"
           }
          ],
          "mesh3d": [
           {
            "colorbar": {
             "outlinewidth": 0,
             "ticks": ""
            },
            "type": "mesh3d"
           }
          ],
          "parcoords": [
           {
            "line": {
             "colorbar": {
              "outlinewidth": 0,
              "ticks": ""
             }
            },
            "type": "parcoords"
           }
          ],
          "pie": [
           {
            "automargin": true,
            "type": "pie"
           }
          ],
          "scatter": [
           {
            "marker": {
             "colorbar": {
              "outlinewidth": 0,
              "ticks": ""
             }
            },
            "type": "scatter"
           }
          ],
          "scatter3d": [
           {
            "line": {
             "colorbar": {
              "outlinewidth": 0,
              "ticks": ""
             }
            },
            "marker": {
             "colorbar": {
              "outlinewidth": 0,
              "ticks": ""
             }
            },
            "type": "scatter3d"
           }
          ],
          "scattercarpet": [
           {
            "marker": {
             "colorbar": {
              "outlinewidth": 0,
              "ticks": ""
             }
            },
            "type": "scattercarpet"
           }
          ],
          "scattergeo": [
           {
            "marker": {
             "colorbar": {
              "outlinewidth": 0,
              "ticks": ""
             }
            },
            "type": "scattergeo"
           }
          ],
          "scattergl": [
           {
            "marker": {
             "colorbar": {
              "outlinewidth": 0,
              "ticks": ""
             }
            },
            "type": "scattergl"
           }
          ],
          "scattermapbox": [
           {
            "marker": {
             "colorbar": {
              "outlinewidth": 0,
              "ticks": ""
             }
            },
            "type": "scattermapbox"
           }
          ],
          "scatterpolar": [
           {
            "marker": {
             "colorbar": {
              "outlinewidth": 0,
              "ticks": ""
             }
            },
            "type": "scatterpolar"
           }
          ],
          "scatterpolargl": [
           {
            "marker": {
             "colorbar": {
              "outlinewidth": 0,
              "ticks": ""
             }
            },
            "type": "scatterpolargl"
           }
          ],
          "scatterternary": [
           {
            "marker": {
             "colorbar": {
              "outlinewidth": 0,
              "ticks": ""
             }
            },
            "type": "scatterternary"
           }
          ],
          "surface": [
           {
            "colorbar": {
             "outlinewidth": 0,
             "ticks": ""
            },
            "colorscale": [
             [
              0,
              "#0d0887"
             ],
             [
              0.1111111111111111,
              "#46039f"
             ],
             [
              0.2222222222222222,
              "#7201a8"
             ],
             [
              0.3333333333333333,
              "#9c179e"
             ],
             [
              0.4444444444444444,
              "#bd3786"
             ],
             [
              0.5555555555555556,
              "#d8576b"
             ],
             [
              0.6666666666666666,
              "#ed7953"
             ],
             [
              0.7777777777777778,
              "#fb9f3a"
             ],
             [
              0.8888888888888888,
              "#fdca26"
             ],
             [
              1,
              "#f0f921"
             ]
            ],
            "type": "surface"
           }
          ],
          "table": [
           {
            "cells": {
             "fill": {
              "color": "#EBF0F8"
             },
             "line": {
              "color": "white"
             }
            },
            "header": {
             "fill": {
              "color": "#C8D4E3"
             },
             "line": {
              "color": "white"
             }
            },
            "type": "table"
           }
          ]
         },
         "layout": {
          "annotationdefaults": {
           "arrowcolor": "#2a3f5f",
           "arrowhead": 0,
           "arrowwidth": 1
          },
          "coloraxis": {
           "colorbar": {
            "outlinewidth": 0,
            "ticks": ""
           }
          },
          "colorscale": {
           "diverging": [
            [
             0,
             "#8e0152"
            ],
            [
             0.1,
             "#c51b7d"
            ],
            [
             0.2,
             "#de77ae"
            ],
            [
             0.3,
             "#f1b6da"
            ],
            [
             0.4,
             "#fde0ef"
            ],
            [
             0.5,
             "#f7f7f7"
            ],
            [
             0.6,
             "#e6f5d0"
            ],
            [
             0.7,
             "#b8e186"
            ],
            [
             0.8,
             "#7fbc41"
            ],
            [
             0.9,
             "#4d9221"
            ],
            [
             1,
             "#276419"
            ]
           ],
           "sequential": [
            [
             0,
             "#0d0887"
            ],
            [
             0.1111111111111111,
             "#46039f"
            ],
            [
             0.2222222222222222,
             "#7201a8"
            ],
            [
             0.3333333333333333,
             "#9c179e"
            ],
            [
             0.4444444444444444,
             "#bd3786"
            ],
            [
             0.5555555555555556,
             "#d8576b"
            ],
            [
             0.6666666666666666,
             "#ed7953"
            ],
            [
             0.7777777777777778,
             "#fb9f3a"
            ],
            [
             0.8888888888888888,
             "#fdca26"
            ],
            [
             1,
             "#f0f921"
            ]
           ],
           "sequentialminus": [
            [
             0,
             "#0d0887"
            ],
            [
             0.1111111111111111,
             "#46039f"
            ],
            [
             0.2222222222222222,
             "#7201a8"
            ],
            [
             0.3333333333333333,
             "#9c179e"
            ],
            [
             0.4444444444444444,
             "#bd3786"
            ],
            [
             0.5555555555555556,
             "#d8576b"
            ],
            [
             0.6666666666666666,
             "#ed7953"
            ],
            [
             0.7777777777777778,
             "#fb9f3a"
            ],
            [
             0.8888888888888888,
             "#fdca26"
            ],
            [
             1,
             "#f0f921"
            ]
           ]
          },
          "colorway": [
           "#636efa",
           "#EF553B",
           "#00cc96",
           "#ab63fa",
           "#FFA15A",
           "#19d3f3",
           "#FF6692",
           "#B6E880",
           "#FF97FF",
           "#FECB52"
          ],
          "font": {
           "color": "#2a3f5f"
          },
          "geo": {
           "bgcolor": "white",
           "lakecolor": "white",
           "landcolor": "#E5ECF6",
           "showlakes": true,
           "showland": true,
           "subunitcolor": "white"
          },
          "hoverlabel": {
           "align": "left"
          },
          "hovermode": "closest",
          "mapbox": {
           "style": "light"
          },
          "paper_bgcolor": "white",
          "plot_bgcolor": "#E5ECF6",
          "polar": {
           "angularaxis": {
            "gridcolor": "white",
            "linecolor": "white",
            "ticks": ""
           },
           "bgcolor": "#E5ECF6",
           "radialaxis": {
            "gridcolor": "white",
            "linecolor": "white",
            "ticks": ""
           }
          },
          "scene": {
           "xaxis": {
            "backgroundcolor": "#E5ECF6",
            "gridcolor": "white",
            "gridwidth": 2,
            "linecolor": "white",
            "showbackground": true,
            "ticks": "",
            "zerolinecolor": "white"
           },
           "yaxis": {
            "backgroundcolor": "#E5ECF6",
            "gridcolor": "white",
            "gridwidth": 2,
            "linecolor": "white",
            "showbackground": true,
            "ticks": "",
            "zerolinecolor": "white"
           },
           "zaxis": {
            "backgroundcolor": "#E5ECF6",
            "gridcolor": "white",
            "gridwidth": 2,
            "linecolor": "white",
            "showbackground": true,
            "ticks": "",
            "zerolinecolor": "white"
           }
          },
          "shapedefaults": {
           "line": {
            "color": "#2a3f5f"
           }
          },
          "ternary": {
           "aaxis": {
            "gridcolor": "white",
            "linecolor": "white",
            "ticks": ""
           },
           "baxis": {
            "gridcolor": "white",
            "linecolor": "white",
            "ticks": ""
           },
           "bgcolor": "#E5ECF6",
           "caxis": {
            "gridcolor": "white",
            "linecolor": "white",
            "ticks": ""
           }
          },
          "title": {
           "x": 0.05
          },
          "xaxis": {
           "automargin": true,
           "gridcolor": "white",
           "linecolor": "white",
           "ticks": "",
           "title": {
            "standoff": 15
           },
           "zerolinecolor": "white",
           "zerolinewidth": 2
          },
          "yaxis": {
           "automargin": true,
           "gridcolor": "white",
           "linecolor": "white",
           "ticks": "",
           "title": {
            "standoff": 15
           },
           "zerolinecolor": "white",
           "zerolinewidth": 2
          }
         }
        }
       }
      },
      "text/html": [
       "<div>\n",
       "        \n",
       "        \n",
       "            <div id=\"06725018-c434-4dae-9be1-8bb02f6d3d31\" class=\"plotly-graph-div\" style=\"height:525px; width:100%;\"></div>\n",
       "            <script type=\"text/javascript\">\n",
       "                require([\"plotly\"], function(Plotly) {\n",
       "                    window.PLOTLYENV=window.PLOTLYENV || {};\n",
       "                    \n",
       "                if (document.getElementById(\"06725018-c434-4dae-9be1-8bb02f6d3d31\")) {\n",
       "                    Plotly.newPlot(\n",
       "                        '06725018-c434-4dae-9be1-8bb02f6d3d31',\n",
       "                        [{\"line\": {\"color\": \"blue\"}, \"mode\": \"lines\", \"name\": \"Serie de tiempo del valor Actual\", \"type\": \"scatter\", \"x\": [\"2020-04-17T09:00:00\", \"2020-03-18T09:00:00\", \"2020-02-21T09:00:00\", \"2020-01-17T09:00:00\", \"2019-12-18T09:00:00\", \"2019-11-15T09:00:00\", \"2019-10-16T09:00:00\", \"2019-09-18T09:00:00\", \"2019-08-19T09:00:00\", \"2019-07-17T09:00:00\", \"2019-06-18T09:00:00\", \"2019-05-17T09:00:00\", \"2019-04-17T09:00:00\", \"2019-03-15T09:00:00\", \"2019-02-22T09:00:00\", \"2019-01-17T09:00:00\", \"2018-12-17T09:00:00\", \"2018-11-16T09:00:00\", \"2018-10-17T09:00:00\", \"2018-09-17T09:00:00\", \"2018-08-17T09:00:00\", \"2018-07-18T09:00:00\", \"2018-06-15T09:00:00\", \"2018-05-16T09:00:00\", \"2018-04-18T09:00:00\", \"2018-03-16T09:00:00\", \"2018-02-23T09:00:00\", \"2018-01-17T09:00:00\", \"2017-12-18T09:00:00\", \"2017-11-16T09:00:00\", \"2017-10-17T09:00:00\", \"2017-09-18T09:00:00\", \"2017-08-17T09:00:00\", \"2017-07-17T09:00:00\", \"2017-06-16T09:00:00\", \"2017-05-17T09:00:00\", \"2017-04-19T09:00:00\", \"2017-03-16T09:00:00\", \"2017-02-22T09:00:00\", \"2017-01-18T09:00:00\", \"2016-12-16T09:00:00\", \"2016-11-17T09:00:00\", \"2016-10-17T09:00:00\", \"2016-09-15T09:00:00\", \"2016-08-18T09:00:00\", \"2016-07-15T09:00:00\", \"2016-06-16T09:00:00\", \"2016-05-18T09:00:00\", \"2016-04-14T09:00:00\", \"2016-03-17T09:00:00\", \"2016-02-25T09:00:00\", \"2016-01-19T09:00:00\", \"2015-12-16T09:00:00\", \"2015-11-16T09:00:00\", \"2015-10-16T09:00:00\", \"2015-09-16T09:00:00\", \"2015-08-14T09:00:00\", \"2015-07-16T09:00:00\", \"2015-06-17T09:00:00\", \"2015-05-19T09:00:00\", \"2015-04-17T09:00:00\", \"2015-03-17T09:00:00\", \"2015-02-24T09:00:00\", \"2015-01-16T09:00:00\", \"2014-12-17T09:00:00\", \"2014-11-14T09:00:00\", \"2014-10-16T09:00:00\", \"2014-09-17T09:00:00\", \"2014-08-14T09:00:00\", \"2014-07-17T09:00:00\", \"2014-06-16T09:00:00\", \"2014-05-15T09:00:00\", \"2014-04-16T09:00:00\", \"2014-03-17T09:00:00\", \"2014-02-24T09:00:00\", \"2014-01-16T09:00:00\", \"2013-12-17T09:00:00\", \"2013-11-15T09:00:00\", \"2013-10-16T09:00:00\", \"2013-09-16T09:00:00\", \"2013-08-16T09:00:00\", \"2013-07-16T09:00:00\", \"2013-06-14T09:00:00\", \"2013-05-16T09:00:00\", \"2013-04-16T09:00:00\", \"2013-03-15T09:00:00\", \"2013-02-28T09:00:00\", \"2013-01-16T09:00:00\", \"2012-12-14T09:00:00\", \"2012-11-15T09:00:00\", \"2012-10-16T09:00:00\", \"2012-09-14T09:00:00\", \"2012-08-16T09:00:00\", \"2012-07-16T09:00:00\", \"2012-06-14T09:00:00\", \"2012-05-16T09:00:00\", \"2012-04-17T09:00:00\", \"2012-03-14T09:00:00\", \"2012-02-29T09:00:00\", \"2012-01-17T09:00:00\", \"2011-12-15T09:00:00\", \"2011-11-16T09:00:00\", \"2011-10-14T09:00:00\", \"2011-09-14T09:00:00\", \"2011-08-15T09:00:00\", \"2011-07-17T09:00:00\", \"2011-06-14T09:00:00\", \"2011-06-16T09:00:00\", \"2011-05-16T09:00:00\", \"2011-04-15T09:00:00\", \"2011-03-16T09:00:00\", \"2011-02-14T09:00:00\", \"2010-01-14T09:00:00\", \"2010-11-16T09:00:00\", \"2010-10-15T09:00:00\", \"2010-09-15T09:00:00\", \"2010-08-16T09:00:00\", \"2010-07-14T09:00:00\", \"2010-06-16T09:00:00\", \"2010-05-18T09:00:00\", \"2010-04-16T09:00:00\", \"2010-03-16T09:00:00\", \"2010-02-26T09:00:00\", \"2010-01-15T09:00:00\", \"2009-12-16T09:00:00\", \"2009-11-16T09:00:00\", \"2009-10-15T09:00:00\", \"2009-09-16T09:00:00\", \"2009-08-14T09:00:00\", \"2009-07-15T09:00:00\", \"2009-06-16T09:00:00\", \"2009-05-15T09:00:00\", \"2009-04-16T09:00:00\", \"2009-03-15T09:00:00\", \"2009-02-27T09:00:00\", \"2009-01-15T09:00:00\", \"2008-12-17T09:00:00\", \"2008-11-14T09:00:00\", \"2008-10-15T09:00:00\", \"2008-09-16T09:00:00\", \"2008-08-14T09:00:00\", \"2008-07-16T09:00:00\", \"2008-06-16T09:00:00\", \"2008-05-15T09:00:00\", \"2008-04-16T09:00:00\", \"2008-03-14T09:00:00\", \"2008-02-29T09:00:00\", \"2008-01-16T09:00:00\", \"2007-12-14T09:00:00\", \"2007-11-15T09:00:00\", \"2007-10-16T09:00:00\", \"2007-09-14T09:00:00\", \"2007-08-16T09:00:00\", \"2007-07-16T09:00:00\", \"2007-06-14T09:00:00\", \"2007-05-16T09:00:00\", \"2007-04-16T09:00:00\", \"2007-03-15T09:00:00\", \"2007-02-28T09:00:00\"], \"y\": [0.5, 0.2, -1.0, 0.3, -0.3, 0.1, 0.2, 0.1, -0.5, 0.2, 0.1, 0.7, 1.0, 0.3, -1.0, 0.0, -0.2, 0.2, 0.5, 0.2, -0.3, 0.1, 0.5, 0.3, 1.0, 0.2, -0.9, 0.4, 0.1, 0.1, 0.4, 0.3, -0.5, 0.0, -0.1, 0.4, 0.8, 0.4, -0.8, 0.5, -0.1, 0.2, 0.4, 0.1, -0.6, 0.2, 0.4, 0.0, 1.2, 0.2, -1.4, 0.0, -0.1, 0.1, 0.2, 0.0, -0.6, 0.0, 0.2, 0.2, 1.1, 0.6, -1.6, -0.1, -0.2, 0.0, 0.4, 0.1, -0.7, 0.1, -0.1, 0.2, 0.9, 0.3, -1.1, 0.3, -0.1, -0.1, 0.5, 0.1, -0.5, 0.1, 0.1, -0.1, 1.2, 0.4, -1.0, 0.4, -0.2, 0.2, 0.7, 0.4, -0.5, -0.1, -0.1, 0.5, 1.3, 0.5, -0.8, 0.3, 0.1, 0.3, 0.8, 0.2, -0.6, 0.0, 0.0, 0.6, 1.4, 0.4, -0.7, 0.6, 0.1, 0.4, 0.2, 0.2, -0.3, 0.0, 0.1, 0.5, 0.9, 0.3, -0.8, 0.3, 0.1, 0.2, 0.0, 0.3, -0.7, 0.2, 0.1, 0.4, 0.4, 0.4, -0.8, -0.1, -0.5, 0.0, 0.2, -0.1, -0.2, 0.4, 0.6, 0.3, 1.0, 0.3, -0.4, 0.4, 0.5, 0.5, 0.4, 0.1, -0.2, 0.1, 0.2, 0.6, 0.7, 0.3, -0.5]}],\n",
       "                        {\"template\": {\"data\": {\"bar\": [{\"error_x\": {\"color\": \"#2a3f5f\"}, \"error_y\": {\"color\": \"#2a3f5f\"}, \"marker\": {\"line\": {\"color\": \"#E5ECF6\", \"width\": 0.5}}, \"type\": \"bar\"}], \"barpolar\": [{\"marker\": {\"line\": {\"color\": \"#E5ECF6\", \"width\": 0.5}}, \"type\": \"barpolar\"}], \"carpet\": [{\"aaxis\": {\"endlinecolor\": \"#2a3f5f\", \"gridcolor\": \"white\", \"linecolor\": \"white\", \"minorgridcolor\": \"white\", \"startlinecolor\": \"#2a3f5f\"}, \"baxis\": {\"endlinecolor\": \"#2a3f5f\", \"gridcolor\": \"white\", \"linecolor\": \"white\", \"minorgridcolor\": \"white\", \"startlinecolor\": \"#2a3f5f\"}, \"type\": \"carpet\"}], \"choropleth\": [{\"colorbar\": {\"outlinewidth\": 0, \"ticks\": \"\"}, \"type\": \"choropleth\"}], \"contour\": [{\"colorbar\": {\"outlinewidth\": 0, \"ticks\": \"\"}, \"colorscale\": [[0.0, \"#0d0887\"], [0.1111111111111111, \"#46039f\"], [0.2222222222222222, \"#7201a8\"], [0.3333333333333333, \"#9c179e\"], [0.4444444444444444, \"#bd3786\"], [0.5555555555555556, \"#d8576b\"], [0.6666666666666666, \"#ed7953\"], [0.7777777777777778, \"#fb9f3a\"], [0.8888888888888888, \"#fdca26\"], [1.0, \"#f0f921\"]], \"type\": \"contour\"}], \"contourcarpet\": [{\"colorbar\": {\"outlinewidth\": 0, \"ticks\": \"\"}, \"type\": \"contourcarpet\"}], \"heatmap\": [{\"colorbar\": {\"outlinewidth\": 0, \"ticks\": \"\"}, \"colorscale\": [[0.0, \"#0d0887\"], [0.1111111111111111, \"#46039f\"], [0.2222222222222222, \"#7201a8\"], [0.3333333333333333, \"#9c179e\"], [0.4444444444444444, \"#bd3786\"], [0.5555555555555556, \"#d8576b\"], [0.6666666666666666, \"#ed7953\"], [0.7777777777777778, \"#fb9f3a\"], [0.8888888888888888, \"#fdca26\"], [1.0, \"#f0f921\"]], \"type\": \"heatmap\"}], \"heatmapgl\": [{\"colorbar\": {\"outlinewidth\": 0, \"ticks\": \"\"}, \"colorscale\": [[0.0, \"#0d0887\"], [0.1111111111111111, \"#46039f\"], [0.2222222222222222, \"#7201a8\"], [0.3333333333333333, \"#9c179e\"], [0.4444444444444444, \"#bd3786\"], [0.5555555555555556, \"#d8576b\"], [0.6666666666666666, \"#ed7953\"], [0.7777777777777778, \"#fb9f3a\"], [0.8888888888888888, \"#fdca26\"], [1.0, \"#f0f921\"]], \"type\": \"heatmapgl\"}], \"histogram\": [{\"marker\": {\"colorbar\": {\"outlinewidth\": 0, \"ticks\": \"\"}}, \"type\": \"histogram\"}], \"histogram2d\": [{\"colorbar\": {\"outlinewidth\": 0, \"ticks\": \"\"}, \"colorscale\": [[0.0, \"#0d0887\"], [0.1111111111111111, \"#46039f\"], [0.2222222222222222, \"#7201a8\"], [0.3333333333333333, \"#9c179e\"], [0.4444444444444444, \"#bd3786\"], [0.5555555555555556, \"#d8576b\"], [0.6666666666666666, \"#ed7953\"], [0.7777777777777778, \"#fb9f3a\"], [0.8888888888888888, \"#fdca26\"], [1.0, \"#f0f921\"]], \"type\": \"histogram2d\"}], \"histogram2dcontour\": [{\"colorbar\": {\"outlinewidth\": 0, \"ticks\": \"\"}, \"colorscale\": [[0.0, \"#0d0887\"], [0.1111111111111111, \"#46039f\"], [0.2222222222222222, \"#7201a8\"], [0.3333333333333333, \"#9c179e\"], [0.4444444444444444, \"#bd3786\"], [0.5555555555555556, \"#d8576b\"], [0.6666666666666666, \"#ed7953\"], [0.7777777777777778, \"#fb9f3a\"], [0.8888888888888888, \"#fdca26\"], [1.0, \"#f0f921\"]], \"type\": \"histogram2dcontour\"}], \"mesh3d\": [{\"colorbar\": {\"outlinewidth\": 0, \"ticks\": \"\"}, \"type\": \"mesh3d\"}], \"parcoords\": [{\"line\": {\"colorbar\": {\"outlinewidth\": 0, \"ticks\": \"\"}}, \"type\": \"parcoords\"}], \"pie\": [{\"automargin\": true, \"type\": \"pie\"}], \"scatter\": [{\"marker\": {\"colorbar\": {\"outlinewidth\": 0, \"ticks\": \"\"}}, \"type\": \"scatter\"}], \"scatter3d\": [{\"line\": {\"colorbar\": {\"outlinewidth\": 0, \"ticks\": \"\"}}, \"marker\": {\"colorbar\": {\"outlinewidth\": 0, \"ticks\": \"\"}}, \"type\": \"scatter3d\"}], \"scattercarpet\": [{\"marker\": {\"colorbar\": {\"outlinewidth\": 0, \"ticks\": \"\"}}, \"type\": \"scattercarpet\"}], \"scattergeo\": [{\"marker\": {\"colorbar\": {\"outlinewidth\": 0, \"ticks\": \"\"}}, \"type\": \"scattergeo\"}], \"scattergl\": [{\"marker\": {\"colorbar\": {\"outlinewidth\": 0, \"ticks\": \"\"}}, \"type\": \"scattergl\"}], \"scattermapbox\": [{\"marker\": {\"colorbar\": {\"outlinewidth\": 0, \"ticks\": \"\"}}, \"type\": \"scattermapbox\"}], \"scatterpolar\": [{\"marker\": {\"colorbar\": {\"outlinewidth\": 0, \"ticks\": \"\"}}, \"type\": \"scatterpolar\"}], \"scatterpolargl\": [{\"marker\": {\"colorbar\": {\"outlinewidth\": 0, \"ticks\": \"\"}}, \"type\": \"scatterpolargl\"}], \"scatterternary\": [{\"marker\": {\"colorbar\": {\"outlinewidth\": 0, \"ticks\": \"\"}}, \"type\": \"scatterternary\"}], \"surface\": [{\"colorbar\": {\"outlinewidth\": 0, \"ticks\": \"\"}, \"colorscale\": [[0.0, \"#0d0887\"], [0.1111111111111111, \"#46039f\"], [0.2222222222222222, \"#7201a8\"], [0.3333333333333333, \"#9c179e\"], [0.4444444444444444, \"#bd3786\"], [0.5555555555555556, \"#d8576b\"], [0.6666666666666666, \"#ed7953\"], [0.7777777777777778, \"#fb9f3a\"], [0.8888888888888888, \"#fdca26\"], [1.0, \"#f0f921\"]], \"type\": \"surface\"}], \"table\": [{\"cells\": {\"fill\": {\"color\": \"#EBF0F8\"}, \"line\": {\"color\": \"white\"}}, \"header\": {\"fill\": {\"color\": \"#C8D4E3\"}, \"line\": {\"color\": \"white\"}}, \"type\": \"table\"}]}, \"layout\": {\"annotationdefaults\": {\"arrowcolor\": \"#2a3f5f\", \"arrowhead\": 0, \"arrowwidth\": 1}, \"coloraxis\": {\"colorbar\": {\"outlinewidth\": 0, \"ticks\": \"\"}}, \"colorscale\": {\"diverging\": [[0, \"#8e0152\"], [0.1, \"#c51b7d\"], [0.2, \"#de77ae\"], [0.3, \"#f1b6da\"], [0.4, \"#fde0ef\"], [0.5, \"#f7f7f7\"], [0.6, \"#e6f5d0\"], [0.7, \"#b8e186\"], [0.8, \"#7fbc41\"], [0.9, \"#4d9221\"], [1, \"#276419\"]], \"sequential\": [[0.0, \"#0d0887\"], [0.1111111111111111, \"#46039f\"], [0.2222222222222222, \"#7201a8\"], [0.3333333333333333, \"#9c179e\"], [0.4444444444444444, \"#bd3786\"], [0.5555555555555556, \"#d8576b\"], [0.6666666666666666, \"#ed7953\"], [0.7777777777777778, \"#fb9f3a\"], [0.8888888888888888, \"#fdca26\"], [1.0, \"#f0f921\"]], \"sequentialminus\": [[0.0, \"#0d0887\"], [0.1111111111111111, \"#46039f\"], [0.2222222222222222, \"#7201a8\"], [0.3333333333333333, \"#9c179e\"], [0.4444444444444444, \"#bd3786\"], [0.5555555555555556, \"#d8576b\"], [0.6666666666666666, \"#ed7953\"], [0.7777777777777778, \"#fb9f3a\"], [0.8888888888888888, \"#fdca26\"], [1.0, \"#f0f921\"]]}, \"colorway\": [\"#636efa\", \"#EF553B\", \"#00cc96\", \"#ab63fa\", \"#FFA15A\", \"#19d3f3\", \"#FF6692\", \"#B6E880\", \"#FF97FF\", \"#FECB52\"], \"font\": {\"color\": \"#2a3f5f\"}, \"geo\": {\"bgcolor\": \"white\", \"lakecolor\": \"white\", \"landcolor\": \"#E5ECF6\", \"showlakes\": true, \"showland\": true, \"subunitcolor\": \"white\"}, \"hoverlabel\": {\"align\": \"left\"}, \"hovermode\": \"closest\", \"mapbox\": {\"style\": \"light\"}, \"paper_bgcolor\": \"white\", \"plot_bgcolor\": \"#E5ECF6\", \"polar\": {\"angularaxis\": {\"gridcolor\": \"white\", \"linecolor\": \"white\", \"ticks\": \"\"}, \"bgcolor\": \"#E5ECF6\", \"radialaxis\": {\"gridcolor\": \"white\", \"linecolor\": \"white\", \"ticks\": \"\"}}, \"scene\": {\"xaxis\": {\"backgroundcolor\": \"#E5ECF6\", \"gridcolor\": \"white\", \"gridwidth\": 2, \"linecolor\": \"white\", \"showbackground\": true, \"ticks\": \"\", \"zerolinecolor\": \"white\"}, \"yaxis\": {\"backgroundcolor\": \"#E5ECF6\", \"gridcolor\": \"white\", \"gridwidth\": 2, \"linecolor\": \"white\", \"showbackground\": true, \"ticks\": \"\", \"zerolinecolor\": \"white\"}, \"zaxis\": {\"backgroundcolor\": \"#E5ECF6\", \"gridcolor\": \"white\", \"gridwidth\": 2, \"linecolor\": \"white\", \"showbackground\": true, \"ticks\": \"\", \"zerolinecolor\": \"white\"}}, \"shapedefaults\": {\"line\": {\"color\": \"#2a3f5f\"}}, \"ternary\": {\"aaxis\": {\"gridcolor\": \"white\", \"linecolor\": \"white\", \"ticks\": \"\"}, \"baxis\": {\"gridcolor\": \"white\", \"linecolor\": \"white\", \"ticks\": \"\"}, \"bgcolor\": \"#E5ECF6\", \"caxis\": {\"gridcolor\": \"white\", \"linecolor\": \"white\", \"ticks\": \"\"}}, \"title\": {\"x\": 0.05}, \"xaxis\": {\"automargin\": true, \"gridcolor\": \"white\", \"linecolor\": \"white\", \"ticks\": \"\", \"title\": {\"standoff\": 15}, \"zerolinecolor\": \"white\", \"zerolinewidth\": 2}, \"yaxis\": {\"automargin\": true, \"gridcolor\": \"white\", \"linecolor\": \"white\", \"ticks\": \"\", \"title\": {\"standoff\": 15}, \"zerolinecolor\": \"white\", \"zerolinewidth\": 2}}}},\n",
       "                        {\"responsive\": true}\n",
       "                    ).then(function(){\n",
       "                            \n",
       "var gd = document.getElementById('06725018-c434-4dae-9be1-8bb02f6d3d31');\n",
       "var x = new MutationObserver(function (mutations, observer) {{\n",
       "        var display = window.getComputedStyle(gd).display;\n",
       "        if (!display || display === 'none') {{\n",
       "            console.log([gd, 'removed!']);\n",
       "            Plotly.purge(gd);\n",
       "            observer.disconnect();\n",
       "        }}\n",
       "}});\n",
       "\n",
       "// Listen for the removal of the full notebook cells\n",
       "var notebookContainer = gd.closest('#notebook-container');\n",
       "if (notebookContainer) {{\n",
       "    x.observe(notebookContainer, {childList: true});\n",
       "}}\n",
       "\n",
       "// Listen for the clearing of the current output cell\n",
       "var outputEl = gd.closest('.output');\n",
       "if (outputEl) {{\n",
       "    x.observe(outputEl, {childList: true});\n",
       "}}\n",
       "\n",
       "                        })\n",
       "                };\n",
       "                });\n",
       "            </script>\n",
       "        </div>"
      ]
     },
     "metadata": {},
     "output_type": "display_data"
    }
   ],
   "source": [
    "serie = vn.plot_profit_diario(datos=datos)\n",
    "serie"
   ]
  },
  {
   "cell_type": "markdown",
   "metadata": {},
   "source": [
    "A partir de ver esta gráfica se puede inferir que es estacionaria, por la forma que presentan los valores actuales a lo largo del tiempo. En seguida se utilizará la metodología de Box-Jenkins. Esta metodología se aplica a los modelos autorregresivos de media móvil ARMA o a los modelos autorregresivos integrados de media móvil (ARIMA) para encontrar el mejor ajuste de una serie temporal de valores, a fin de que los pronósticos sean más acertados. El primer paso es verificar si la serie de tiempo es estacionaria.\n",
    "\n",
    "Fuente: https://es.wikipedia.org/wiki/Metodolog%C3%ADa_de_Box-Jenkins"
   ]
  },
  {
   "cell_type": "markdown",
   "metadata": {},
   "source": [
    "## Estacionariedad\n",
    "La estacionariedad implica que las propiedades de la serie no varían con respecto al tiempo. En otras palabras significa que su variación (la forma en la que cambia) no cambia en función del tiempo.\n",
    "Si la serie presenta estacionariedad significa que las características estadisticas de esta son las mismas en el futuro como en el pasado. También no se necesitará usar una serie transformada pues se podrá seguir con los datos originales.\n",
    "\n",
    "Fuente: https://rpubs.com/Arthurus/492144"
   ]
  },
  {
   "cell_type": "markdown",
   "metadata": {},
   "source": [
    "Se desea resolver la siguiente prueba de hipótesis\n",
    "> $H_0$: La serie es estacionaria.\n",
    "\n",
    "> $H_a$: La serie no es estacionaria."
   ]
  },
  {
   "cell_type": "code",
   "execution_count": 4,
   "metadata": {},
   "outputs": [
    {
     "data": {
      "text/plain": [
       "('p-value = ', 0.33491040981289133, 'La hipótesis nula no se rechaza')"
      ]
     },
     "execution_count": 4,
     "metadata": {},
     "output_type": "execute_result"
    }
   ],
   "source": [
    "estacionariedad = fn.f_estacionaria(param_data=datos)\n",
    "estacionariedad"
   ]
  },
  {
   "cell_type": "markdown",
   "metadata": {},
   "source": [
    "Como el p-value es mayor al alpha que se determinó, este fue de .05, lo que significa que tiene un nivel de significancia del 95%. La hipótesis nula se acepta, lo que quiere decir que los datos son estacionarios. Esto se puede ver en la gráfica, como se mencionó anteriormente. Al ser estacionaria se considera que la media y la varianza son constantes y que se podrá usar la serie original para las siguientes pruebas.\n",
    "\n",
    "En seguida se obtendrán los componentes de autocorrelación y autocorrelación parcial."
   ]
  },
  {
   "cell_type": "markdown",
   "metadata": {},
   "source": [
    "##  Autocorrelación y autocorrelación parcial\n",
    "La autocorrelación y la autocorrelación parcial son medidas de asociación entre valores de series actuales y pasadas e indican cuáles son los valores de series pasadas más útiles para predecir valores futuros. Con estos datos podrá determinar el orden de los procesos en un modelo ARIMA.\n",
    "+ **Función de autocorrelación (FAC).** En el retardo k, es la autocorrelación entre los valores de las series que se encuentran a k intervalos de distancia.\n",
    "+ **Función de autocorrelación parcial (FACP).** En el retardo k, es la autocorrelación entre los valores de las series que se encuentran a k intervalos de distancia, teniendo en cuenta los valores de los intervalos intermedios.\n",
    "\n",
    "\n",
    "Fuente: https://www.ibm.com/support/knowledgecenter/es/SS3RA7_sub/modeler_mainhelp_client_ddita/components/dt/timeseries_acf_pacf.html\n",
    "\n",
    "La autocorrelación parcial en el retraso k es la correlación que resulta después de eliminar el efecto de cualquier correlación debido a los términos de la serie en los retrasos más cortos.\n",
    "\n",
    "Las gráficas de autocorrelación resumen gráficamente la relación entre una observación en una serie de tiempo y una observación en un momento anterior. El eje x del gráfico de FAC indica el retardo en el que se calcula la autocorrelación; el eje y indica el valor de la correlación (entre -1 y 1). "
   ]
  },
  {
   "cell_type": "code",
   "execution_count": 5,
   "metadata": {
    "scrolled": false
   },
   "outputs": [
    {
     "name": "stderr",
     "output_type": "stream",
     "text": [
      "/anaconda3/lib/python3.7/site-packages/statsmodels/regression/linear_model.py:1283: RuntimeWarning:\n",
      "\n",
      "invalid value encountered in sqrt\n",
      "\n"
     ]
    },
    {
     "data": {
      "text/plain": [
       "(<Figure size 864x432 with 3 Axes>,\n",
       " <Figure size 864x432 with 3 Axes>,\n",
       " <matplotlib.axes._subplots.AxesSubplot at 0x1c243d5be0>)"
      ]
     },
     "execution_count": 5,
     "metadata": {},
     "output_type": "execute_result"
    },
    {
     "data": {
      "image/png": "[encoded data removed]",
      "text/plain": [
       "<Figure size 864x432 with 3 Axes>"
      ]
     },
     "metadata": {
      "needs_background": "light"
     },
     "output_type": "display_data"
    }
   ],
   "source": [
    "#autocorr = fn.f_autocorrelation(param_data=datos)\n",
    "pltauto= vn.autocorr(datos)\n",
    "pltauto"
   ]
  },
  {
   "cell_type": "markdown",
   "metadata": {},
   "source": [
    "Cuando se acerca más al 1 significa que los datos de la serie de tiempo estan altamente correlacionados, y si sobrepasan el area azul quiere decir que son estadisticamente significantes. En este caso sucede lo contrario, los datos no estan tan correlacionados pues la mayoría de los rezagos son cercanos a cero, esto tambien se ve reflejado en la FACP. Tambíen como sólo pocos sobrepasan el área azul significa que los datos no son estadísticamente significantes, lo que vuelve a afirmar que no estan autocorrelacionados."
   ]
  },
  {
   "cell_type": "markdown",
   "metadata": {},
   "source": [
    "## Estacionalidad\n",
    "La estacionalidad son aquellos componentes de la serie que se repiten sistemáticamente en un periodo de tiempo determinado.\n",
    "\n",
    "Fuente: http://www.est.uc3m.es/esp/nueva_docencia/comp_col_get/lade/econometria_II/documentacion/Tema1_esther_ruiz_2007.pdf"
   ]
  },
  {
   "cell_type": "code",
   "execution_count": 6,
   "metadata": {},
   "outputs": [
    {
     "data": {
      "image/png": "[encoded data removed]",
      "text/plain": [
       "<Figure size 432x288 with 4 Axes>"
      ]
     },
     "metadata": {
      "needs_background": "light"
     },
     "output_type": "display_data"
    }
   ],
   "source": [
    "seasonality = vn.f_seasonality(param_data=datos)"
   ]
  },
  {
   "cell_type": "markdown",
   "metadata": {},
   "source": [
    "A partir de la gráfica de Seasonal se puede observar que la serie cumple con la presentación de varios ciclos en los 153 meses modelados. El ciclo se ve cada 30 aproximadamente. El pico de este ciclo se da un mes antes de que se acabe, es decir en el 29 y el punto más bajo es el mes que le sigue. Esto es de mucha utilidad a la hora de hacer la estrategia de inversión pues nos da un indicio de como se portaría la serie en cada ciclo y así poder tomar decisiones más eficientes.\n",
    "\n",
    "Hasta aquí se podría dejar el análisis de la serie de tiempo según Box-Jenkins, pero para hacer un análisis más profundo se harán un par de pruebas más para determinar mas características de esta."
   ]
  },
  {
   "cell_type": "markdown",
   "metadata": {},
   "source": [
    "## Heterocedasticidad\n",
    "La heterocedasticidad se presenta en un modelo predictivo cuando la varianza de las perturbaciones de la variable endógena no se mantiene a lo largo de las observaciones, es decir, la varianza de los errores no son constantes. \n",
    "\n",
    "Fuente: https://medium.com/high-data/el-concepto-de-heterocedasticidad-36cda43bb8f7"
   ]
  },
  {
   "cell_type": "markdown",
   "metadata": {},
   "source": [
    "Se desea resolver la siguiente prueba de hipótesis\n",
    "> $H_0$: La serie es heterocedástica.\n",
    "\n",
    "> $H_a$: La serie no es heterocedástica."
   ]
  },
  {
   "cell_type": "code",
   "execution_count": 7,
   "metadata": {},
   "outputs": [
    {
     "data": {
      "text/plain": [
       "[{'LM Statistic': 95.047942396839,\n",
       "  'LM-Test p-value': 4.187231721506903e-14,\n",
       "  'F-Statistic': 17.66870232961587,\n",
       "  'F-Test p-value': 9.852988146939338e-24}]"
      ]
     },
     "execution_count": 7,
     "metadata": {},
     "output_type": "execute_result"
    }
   ],
   "source": [
    "hetero = fn.f_hetero(param_data=datos)\n",
    "hetero"
   ]
  },
  {
   "cell_type": "markdown",
   "metadata": {},
   "source": [
    "No se acepta la hipotesis nula, que es que los datos no son heterocedasticos. Se verificó una de las propiedades que una serie estacionaria presenta que es que la varianza es constante. También esto significa que se cumple una de las hipótesis básicas y es una propiedad fundamental sobre las que se asienta el modelo de regresión lineal."
   ]
  },
  {
   "cell_type": "markdown",
   "metadata": {},
   "source": [
    "## Prueba de normalidad\n",
    "Primero se definirá qué es que los datos sean normales. Se quiere probar si los datos de la serie de tiempo tienen una distribución normal.\n",
    "\n",
    "\n",
    "La distribución normal es un modelo teórico capaz de aproximar satisfactoriamente el valor de una variable aleatoria continua a una situación ideal. \n",
    "\n",
    "\n",
    "$X\\sim N(\\mu,\\sigma^2)$ Parámetros: Media=$\\mu$ y varianza=$\\sigma^2$\n",
    "$$ \\textbf{Función de densidad de probabilidad}\\\\ f(x)= \\frac{1}{\\sigma\\sqrt{2\\pi}}e^{\\frac{-(x-\\mu)^2}{2\\sigma^2}}$$\n",
    "$$ \\textbf{Función de distribución de probabilidad}\\\\ F(x)= \\frac{1}{\\sigma\\sqrt(2\\pi)}\\int_{-\\infty}^{x}e^{\\frac{-(v-\\mu)^2}{2\\sigma^2}}dv$$"
   ]
  },
  {
   "attachments": {
    "image.png": {
     "image/png": "[encoded data removed]"
    }
   },
   "cell_type": "markdown",
   "metadata": {},
   "source": [
    "### Propiedades de la distribución normal\n",
    "![image.png](attachment:image.png)\n",
    "<div style=\"text-align: center\"> Distribución de probabilidad alrededor de la media en una distribución N(μ, σ2). </div>\n",
    "\n",
    "\n",
    "+ La función normal es simétrica en $\\mu$.\n",
    "+ La moda y la mediana son ambas iguales a la media $\\mu$.\n",
    "\n",
    "\n",
    "Esta curva se conoce como campana de Gauss y es el gráfico de una función gaussiana.\n",
    "\n",
    "Fuente: https://es.wikipedia.org/wiki/Distribuci%C3%B3n_normal"
   ]
  },
  {
   "cell_type": "markdown",
   "metadata": {},
   "source": [
    "El uso del modelo normal puede justificarse asumiendo que cada observación se obtiene como la suma de unas pocas causas independientes. Es por esto que se busca ver si los datos de la serie se distribuyen normales.\n",
    "\n",
    "Se usará primero una prueba gráfica. Se mostrará el histograma de los datos y como se vería si la serie fuera normal representada con una linea roja punteada. Asi mismo, con otra gráfica Q-Q donde se presentan 2 lineas, una roja que representa una distribución normal y los datos representados por puntos azules. Si los datos son normales entonces en la primera gráfica el histograma y la linea punteada serán prácticamente la figura y en la gráfica Q-Q ambas lineas serán iguales."
   ]
  },
  {
   "cell_type": "code",
   "execution_count": 8,
   "metadata": {},
   "outputs": [
    {
     "data": {
      "image/png": "[encoded data removed]",
      "text/plain": [
       "<Figure size 432x288 with 1 Axes>"
      ]
     },
     "metadata": {
      "needs_background": "light"
     },
     "output_type": "display_data"
    },
    {
     "data": {
      "image/png": "[encoded data removed]",
      "text/plain": [
       "<Figure size 432x288 with 1 Axes>"
      ]
     },
     "metadata": {
      "needs_background": "light"
     },
     "output_type": "display_data"
    }
   ],
   "source": [
    "pltnorm = vn.f_normtest(param_data=datos)"
   ]
  },
  {
   "cell_type": "markdown",
   "metadata": {},
   "source": [
    "En este caso los puntos azules están más dispersos por lo que no se ve gráficamente que la serie distribuye normal. Tampoco el histograma de los datos cabe perfectamente en la linea roja punteada que representa una distribución normla. Como no es suficiente se realizarán pruebas numéricas que comprueben que los datos no tienen una distribución normal."
   ]
  },
  {
   "cell_type": "markdown",
   "metadata": {},
   "source": [
    "Se desea resolver la siguiente prueba de hipótesis\n",
    "> $H_0$: La serie es normal.\n",
    "\n",
    "> $H_a$: La serie no es normal."
   ]
  },
  {
   "cell_type": "code",
   "execution_count": 9,
   "metadata": {},
   "outputs": [
    {
     "data": {
      "text/plain": [
       "('p-value = ', 0.001466542189629913, 'La hipótesis nula se rechaza')"
      ]
     },
     "execution_count": 9,
     "metadata": {},
     "output_type": "execute_result"
    }
   ],
   "source": [
    "normtest = fn.f_normality_test(param_data=datos)\n",
    "normtest"
   ]
  },
  {
   "cell_type": "markdown",
   "metadata": {},
   "source": [
    "Esta prueba utiliza dos tests de normalidad, el de D'Agostino y Pearson que calcula la asimetría y la curtosis para cuantificar qué tan lejos de Gauss está la distribución en términos de asimetría y forma. Luego calcula en qué medida cada uno de estos valores difiere del valor esperado con una distribución gaussiana, y calcula un solo valor de P a partir de la suma de estas discrepancias. Y la prueba Shapiro-Wilk se utiliza cuando los valores a probar son únicosy no hay vinculos entre ellos.\n",
    "El p-value tuvo que coincidir en ambas pruebas para que se aceptara que los datos no son normales."
   ]
  },
  {
   "cell_type": "markdown",
   "metadata": {},
   "source": [
    "Por último se hará una detección de valores atípicos."
   ]
  },
  {
   "cell_type": "markdown",
   "metadata": {},
   "source": [
    "## Detección de atípicos\n",
    "Un valor atípico es una observación extrañamente grande o pequeña, es una observación que es numéricamente distante del resto de los datos. Los valores atípicos pueden tener un efecto desproporcionado en los resultados estadísticos, como la media. \n",
    "\n",
    "Fuente: https://support.minitab.com/es-mx/minitab/18/help-and-how-to/statistics/basic-statistics/supporting-topics/data-concepts/identifying-outliers/"
   ]
  },
  {
   "cell_type": "code",
   "execution_count": 10,
   "metadata": {},
   "outputs": [
    {
     "data": {
      "image/png": "[encoded data removed]",
      "text/plain": [
       "<Figure size 432x288 with 1 Axes>"
      ]
     },
     "metadata": {
      "needs_background": "light"
     },
     "output_type": "display_data"
    }
   ],
   "source": [
    "outliers = vn.f_outliers(param_data=datos)\n",
    "outliers"
   ]
  },
  {
   "cell_type": "markdown",
   "metadata": {},
   "source": [
    "Los puntos que se ven fuera de la gráfica de boxplot son valores atípicos, ya que no están incluidos en el cuadro de otras observaciones, es decir, no estan cerca de los cuartiles. Estos valores atípicos son observaciones que están a por lo menos 1.5 veces el rango intercuartil (Q3 – Q1) del borde de la caja."
   ]
  },
  {
   "cell_type": "markdown",
   "metadata": {},
   "source": [
    "Gracias a todas estas pruebas se puede concluir que la serie de tiempo es estacionaria y no hubo necesidad de diferenciarla. La serie presenta estacionalidad en cíclos de aproximadamente cada 30 meses. Los datos de la serie no están altamente correlacionados y además presenta homocedasticidad, que es que la varianza de las perturbaciones se mantiene constante a lo largo del tiempo. Los datos no  "
   ]
  },
  {
   "cell_type": "code",
   "execution_count": 11,
   "metadata": {},
   "outputs": [],
   "source": [
    "df_pe = fn.f_precios(param_data=datos)"
   ]
  },
  {
   "cell_type": "code",
   "execution_count": 12,
   "metadata": {},
   "outputs": [
    {
     "name": "stderr",
     "output_type": "stream",
     "text": [
      "/Users/natasha/Documents/Trading/proyecto_equipo_2/funciones.py:86: SettingWithCopyWarning:\n",
      "\n",
      "\n",
      "A value is trying to be set on a copy of a slice from a DataFrame\n",
      "\n",
      "See the caveats in the documentation: http://pandas.pydata.org/pandas-docs/stable/user_guide/indexing.html#returning-a-view-versus-a-copy\n",
      "\n"
     ]
    },
    {
     "data": {
      "text/html": [
       "<div>\n",
       "<style scoped>\n",
       "    .dataframe tbody tr th:only-of-type {\n",
       "        vertical-align: middle;\n",
       "    }\n",
       "\n",
       "    .dataframe tbody tr th {\n",
       "        vertical-align: top;\n",
       "    }\n",
       "\n",
       "    .dataframe thead th {\n",
       "        text-align: right;\n",
       "    }\n",
       "</style>\n",
       "<table border=\"1\" class=\"dataframe\">\n",
       "  <thead>\n",
       "    <tr style=\"text-align: right;\">\n",
       "      <th></th>\n",
       "      <th>TimeStamp</th>\n",
       "      <th>Escenario</th>\n",
       "      <th>Direccion</th>\n",
       "      <th>Pip Alcista</th>\n",
       "      <th>Pip Bajista</th>\n",
       "      <th>Volatilidad</th>\n",
       "    </tr>\n",
       "  </thead>\n",
       "  <tbody>\n",
       "    <tr>\n",
       "      <th>0</th>\n",
       "      <td>2020-04-17</td>\n",
       "      <td>A</td>\n",
       "      <td>9.40000</td>\n",
       "      <td>15.6</td>\n",
       "      <td>4.1</td>\n",
       "      <td>19.7</td>\n",
       "    </tr>\n",
       "    <tr>\n",
       "      <th>1</th>\n",
       "      <td>2020-03-18</td>\n",
       "      <td>A</td>\n",
       "      <td>-10929.50751</td>\n",
       "      <td>16.4</td>\n",
       "      <td>9.8</td>\n",
       "      <td>26.2</td>\n",
       "    </tr>\n",
       "    <tr>\n",
       "      <th>2</th>\n",
       "      <td>2020-02-21</td>\n",
       "      <td>B</td>\n",
       "      <td>-10808.11914</td>\n",
       "      <td>0.4</td>\n",
       "      <td>8.0</td>\n",
       "      <td>8.4</td>\n",
       "    </tr>\n",
       "    <tr>\n",
       "      <th>3</th>\n",
       "      <td>2020-01-17</td>\n",
       "      <td>A</td>\n",
       "      <td>-11099.48995</td>\n",
       "      <td>5.6</td>\n",
       "      <td>4.9</td>\n",
       "      <td>10.5</td>\n",
       "    </tr>\n",
       "    <tr>\n",
       "      <th>4</th>\n",
       "      <td>2019-12-18</td>\n",
       "      <td>B</td>\n",
       "      <td>-11116.48779</td>\n",
       "      <td>4.8</td>\n",
       "      <td>0.4</td>\n",
       "      <td>5.2</td>\n",
       "    </tr>\n",
       "    <tr>\n",
       "      <th>5</th>\n",
       "      <td>2019-11-15</td>\n",
       "      <td>C</td>\n",
       "      <td>-11041.29596</td>\n",
       "      <td>3.3</td>\n",
       "      <td>4.8</td>\n",
       "      <td>8.1</td>\n",
       "    </tr>\n",
       "    <tr>\n",
       "      <th>6</th>\n",
       "      <td>2019-10-16</td>\n",
       "      <td>A</td>\n",
       "      <td>-11039.09597</td>\n",
       "      <td>4.4</td>\n",
       "      <td>1.4</td>\n",
       "      <td>5.8</td>\n",
       "    </tr>\n",
       "    <tr>\n",
       "      <th>7</th>\n",
       "      <td>2019-09-18</td>\n",
       "      <td>C</td>\n",
       "      <td>-11055.29457</td>\n",
       "      <td>4.7</td>\n",
       "      <td>2.8</td>\n",
       "      <td>7.5</td>\n",
       "    </tr>\n",
       "    <tr>\n",
       "      <th>8</th>\n",
       "      <td>2019-08-19</td>\n",
       "      <td>C</td>\n",
       "      <td>-11098.09044</td>\n",
       "      <td>1.4</td>\n",
       "      <td>4.0</td>\n",
       "      <td>5.4</td>\n",
       "    </tr>\n",
       "    <tr>\n",
       "      <th>9</th>\n",
       "      <td>2019-07-17</td>\n",
       "      <td>A</td>\n",
       "      <td>-11210.17858</td>\n",
       "      <td>6.7</td>\n",
       "      <td>0.0</td>\n",
       "      <td>6.7</td>\n",
       "    </tr>\n",
       "    <tr>\n",
       "      <th>10</th>\n",
       "      <td>2019-06-18</td>\n",
       "      <td>C</td>\n",
       "      <td>-11197.67967</td>\n",
       "      <td>4.5</td>\n",
       "      <td>2.8</td>\n",
       "      <td>7.3</td>\n",
       "    </tr>\n",
       "    <tr>\n",
       "      <th>11</th>\n",
       "      <td>2019-05-17</td>\n",
       "      <td>B</td>\n",
       "      <td>-11175.08252</td>\n",
       "      <td>1.3</td>\n",
       "      <td>3.6</td>\n",
       "      <td>4.9</td>\n",
       "    </tr>\n",
       "    <tr>\n",
       "      <th>12</th>\n",
       "      <td>2019-04-17</td>\n",
       "      <td>A</td>\n",
       "      <td>-11302.36988</td>\n",
       "      <td>0.5</td>\n",
       "      <td>12.5</td>\n",
       "      <td>13.0</td>\n",
       "    </tr>\n",
       "    <tr>\n",
       "      <th>13</th>\n",
       "      <td>2019-03-15</td>\n",
       "      <td>A</td>\n",
       "      <td>-11302.36838</td>\n",
       "      <td>13.3</td>\n",
       "      <td>3.3</td>\n",
       "      <td>16.6</td>\n",
       "    </tr>\n",
       "    <tr>\n",
       "      <th>14</th>\n",
       "      <td>2019-02-22</td>\n",
       "      <td>B</td>\n",
       "      <td>-11334.96639</td>\n",
       "      <td>7.1</td>\n",
       "      <td>2.5</td>\n",
       "      <td>9.6</td>\n",
       "    </tr>\n",
       "    <tr>\n",
       "      <th>15</th>\n",
       "      <td>2019-01-17</td>\n",
       "      <td>A</td>\n",
       "      <td>-11396.46101</td>\n",
       "      <td>3.0</td>\n",
       "      <td>8.0</td>\n",
       "      <td>11.0</td>\n",
       "    </tr>\n",
       "    <tr>\n",
       "      <th>16</th>\n",
       "      <td>2018-12-17</td>\n",
       "      <td>B</td>\n",
       "      <td>-11349.76572</td>\n",
       "      <td>0.0</td>\n",
       "      <td>15.7</td>\n",
       "      <td>15.7</td>\n",
       "    </tr>\n",
       "    <tr>\n",
       "      <th>17</th>\n",
       "      <td>2018-11-16</td>\n",
       "      <td>B</td>\n",
       "      <td>-11387.65928</td>\n",
       "      <td>21.4</td>\n",
       "      <td>0.0</td>\n",
       "      <td>21.4</td>\n",
       "    </tr>\n",
       "    <tr>\n",
       "      <th>18</th>\n",
       "      <td>2018-10-17</td>\n",
       "      <td>A</td>\n",
       "      <td>-11534.44626</td>\n",
       "      <td>3.4</td>\n",
       "      <td>9.8</td>\n",
       "      <td>13.2</td>\n",
       "    </tr>\n",
       "    <tr>\n",
       "      <th>19</th>\n",
       "      <td>2018-09-17</td>\n",
       "      <td>A</td>\n",
       "      <td>-11683.03102</td>\n",
       "      <td>8.6</td>\n",
       "      <td>2.7</td>\n",
       "      <td>11.3</td>\n",
       "    </tr>\n",
       "  </tbody>\n",
       "</table>\n",
       "</div>"
      ],
      "text/plain": [
       "     TimeStamp Escenario    Direccion  Pip Alcista  Pip Bajista  Volatilidad\n",
       "0   2020-04-17         A      9.40000         15.6          4.1         19.7\n",
       "1   2020-03-18         A -10929.50751         16.4          9.8         26.2\n",
       "2   2020-02-21         B -10808.11914          0.4          8.0          8.4\n",
       "3   2020-01-17         A -11099.48995          5.6          4.9         10.5\n",
       "4   2019-12-18         B -11116.48779          4.8          0.4          5.2\n",
       "5   2019-11-15         C -11041.29596          3.3          4.8          8.1\n",
       "6   2019-10-16         A -11039.09597          4.4          1.4          5.8\n",
       "7   2019-09-18         C -11055.29457          4.7          2.8          7.5\n",
       "8   2019-08-19         C -11098.09044          1.4          4.0          5.4\n",
       "9   2019-07-17         A -11210.17858          6.7          0.0          6.7\n",
       "10  2019-06-18         C -11197.67967          4.5          2.8          7.3\n",
       "11  2019-05-17         B -11175.08252          1.3          3.6          4.9\n",
       "12  2019-04-17         A -11302.36988          0.5         12.5         13.0\n",
       "13  2019-03-15         A -11302.36838         13.3          3.3         16.6\n",
       "14  2019-02-22         B -11334.96639          7.1          2.5          9.6\n",
       "15  2019-01-17         A -11396.46101          3.0          8.0         11.0\n",
       "16  2018-12-17         B -11349.76572          0.0         15.7         15.7\n",
       "17  2018-11-16         B -11387.65928         21.4          0.0         21.4\n",
       "18  2018-10-17         A -11534.44626          3.4          9.8         13.2\n",
       "19  2018-09-17         A -11683.03102          8.6          2.7         11.3"
      ]
     },
     "execution_count": 12,
     "metadata": {},
     "output_type": "execute_result"
    }
   ],
   "source": [
    "df_clasificacion = fn.f_clasificacion(param_data=datos)\n",
    "df_metricas = fn.f_metrica(param_data=df_pe)\n",
    "df=pd.concat([df_clasificacion, df_metricas['Direccion'],df_metricas['Pip Alcista'],\n",
    "              df_metricas['Pip Bajista'],df_metricas['Volatilidad']],axis=1)\n",
    "df.head(20)"
   ]
  },
  {
   "cell_type": "code",
   "execution_count": null,
   "metadata": {},
   "outputs": [],
   "source": []
  }
 ],
 "metadata": {
  "kernelspec": {
   "display_name": "Python 3",
   "language": "python",
   "name": "python3"
  },
  "language_info": {
   "codemirror_mode": {
    "name": "ipython",
    "version": 3
   },
   "file_extension": ".py",
   "mimetype": "text/x-python",
   "name": "python",
   "nbconvert_exporter": "python",
   "pygments_lexer": "ipython3",
   "version": "3.7.1"
  }
 },
 "nbformat": 4,
 "nbformat_minor": 2
}
