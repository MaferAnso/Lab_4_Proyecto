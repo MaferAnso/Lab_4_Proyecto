{
 "cells": [
  {
   "cell_type": "markdown",
   "metadata": {},
   "source": [
    "<img src=\"http://oci02.img.iteso.mx/identidad_de_instancia_2018/ITESO/Logos%20ITESO/Logo-ITESO-Principal.jpg\">"
   ]
  },
  {
   "cell_type": "markdown",
   "metadata": {},
   "source": [
    "<center> <font color= #004A94> <font size = 5> Ingeniería Financiera | ITESO </font> <br> <br>"
   ]
  },
  {
   "cell_type": "markdown",
   "metadata": {},
   "source": [
    "<center> <font color= #004A94> <font size = 6> Microestructura y Sistemas de Trading </font> <br> <br>"
   ]
  },
  {
   "cell_type": "markdown",
   "metadata": {},
   "source": [
    "<center> <font color=#154360><font size=7> Proyecto <br> <br> Análisis Fundamental </font> <br> <br>"
   ]
  },
  {
   "cell_type": "markdown",
   "metadata": {},
   "source": [
    "<center> <font color=#004A94><font size=5> Equipo 2 </font> <br> <br>"
   ]
  },
  {
   "cell_type": "markdown",
   "metadata": {},
   "source": [
    "<center> <font color=#0091EA><font size=4> I.F. Maria Fernanda Ansoleaga | @iteso.mx </font> <br> <br>\n",
    "<center> <font color=#0091EA><font size=4> I.F. Lidia Natasha Gamez  | if709031@iteso.mx </font> <br> <br>\n",
    "<center> <font color=#0091EA><font size=4> I.F. Tamara Martinez | @iteso.mx </font> <br> <br>"
   ]
  },
  {
   "cell_type": "code",
   "execution_count": 1,
   "metadata": {},
   "outputs": [],
   "source": [
    "import funciones as fn\n",
    "import pandas as pd\n",
    "import numpy as np\n",
    "import procesos as pr\n",
    "import datetime \n",
    "from datetime import datetime as dt\n",
    "from datos import OA_Ak   "
   ]
  },
  {
   "cell_type": "code",
   "execution_count": 2,
   "metadata": {},
   "outputs": [
    {
     "name": "stderr",
     "output_type": "stream",
     "text": [
      "/Users/natasha/Documents/Trading/proyecto_equipo_2/funciones.py:80: SettingWithCopyWarning: \n",
      "A value is trying to be set on a copy of a slice from a DataFrame\n",
      "\n",
      "See the caveats in the documentation: http://pandas.pydata.org/pandas-docs/stable/user_guide/indexing.html#returning-a-view-versus-a-copy\n",
      "  param_data['cons'][i] = param_data['previous'][i]\n"
     ]
    }
   ],
   "source": [
    "datos = fn.f_leer_archivo(param_archivo='data2.xlsx')\n",
    "[df_A, df_B, df_C, df_D] = fn.f_clasificacion_ocurrencia(param_data=datos)"
   ]
  },
  {
   "cell_type": "code",
   "execution_count": 3,
   "metadata": {},
   "outputs": [
    {
     "data": {
      "text/plain": [
       "True"
      ]
     },
     "execution_count": 3,
     "metadata": {},
     "output_type": "execute_result"
    }
   ],
   "source": [
    "df_A.shape[0]+df_B.shape[0]+df_C.shape[0]+df_D.shape[0] == datos.shape[0]"
   ]
  },
  {
   "cell_type": "code",
   "execution_count": 4,
   "metadata": {},
   "outputs": [
    {
     "data": {
      "text/html": [
       "<div>\n",
       "<style scoped>\n",
       "    .dataframe tbody tr th:only-of-type {\n",
       "        vertical-align: middle;\n",
       "    }\n",
       "\n",
       "    .dataframe tbody tr th {\n",
       "        vertical-align: top;\n",
       "    }\n",
       "\n",
       "    .dataframe thead th {\n",
       "        text-align: right;\n",
       "    }\n",
       "</style>\n",
       "<table border=\"1\" class=\"dataframe\">\n",
       "  <thead>\n",
       "    <tr style=\"text-align: right;\">\n",
       "      <th></th>\n",
       "      <th>date</th>\n",
       "      <th>actual</th>\n",
       "      <th>previous</th>\n",
       "      <th>desv</th>\n",
       "      <th>cons</th>\n",
       "    </tr>\n",
       "  </thead>\n",
       "  <tbody>\n",
       "    <tr>\n",
       "      <th>0</th>\n",
       "      <td>2020-04-17 09:00:00</td>\n",
       "      <td>0.5</td>\n",
       "      <td>0.2</td>\n",
       "      <td>0.0</td>\n",
       "      <td>0.5</td>\n",
       "    </tr>\n",
       "    <tr>\n",
       "      <th>1</th>\n",
       "      <td>2020-03-18 09:00:00</td>\n",
       "      <td>0.2</td>\n",
       "      <td>-1.0</td>\n",
       "      <td>0.0</td>\n",
       "      <td>0.2</td>\n",
       "    </tr>\n",
       "    <tr>\n",
       "      <th>2</th>\n",
       "      <td>2020-02-21 09:00:00</td>\n",
       "      <td>-1.0</td>\n",
       "      <td>0.3</td>\n",
       "      <td>0.0</td>\n",
       "      <td>-1.0</td>\n",
       "    </tr>\n",
       "    <tr>\n",
       "      <th>3</th>\n",
       "      <td>2020-01-17 09:00:00</td>\n",
       "      <td>0.3</td>\n",
       "      <td>-0.3</td>\n",
       "      <td>0.0</td>\n",
       "      <td>0.3</td>\n",
       "    </tr>\n",
       "    <tr>\n",
       "      <th>4</th>\n",
       "      <td>2019-12-18 09:00:00</td>\n",
       "      <td>-0.3</td>\n",
       "      <td>0.1</td>\n",
       "      <td>0.0</td>\n",
       "      <td>-0.3</td>\n",
       "    </tr>\n",
       "    <tr>\n",
       "      <th>...</th>\n",
       "      <td>...</td>\n",
       "      <td>...</td>\n",
       "      <td>...</td>\n",
       "      <td>...</td>\n",
       "      <td>...</td>\n",
       "    </tr>\n",
       "    <tr>\n",
       "      <th>154</th>\n",
       "      <td>2007-06-14 09:00:00</td>\n",
       "      <td>0.2</td>\n",
       "      <td>0.6</td>\n",
       "      <td>NaN</td>\n",
       "      <td>0.3</td>\n",
       "    </tr>\n",
       "    <tr>\n",
       "      <th>155</th>\n",
       "      <td>2007-05-16 09:00:00</td>\n",
       "      <td>0.6</td>\n",
       "      <td>0.7</td>\n",
       "      <td>NaN</td>\n",
       "      <td>0.5</td>\n",
       "    </tr>\n",
       "    <tr>\n",
       "      <th>156</th>\n",
       "      <td>2007-04-16 09:00:00</td>\n",
       "      <td>0.7</td>\n",
       "      <td>0.3</td>\n",
       "      <td>NaN</td>\n",
       "      <td>0.6</td>\n",
       "    </tr>\n",
       "    <tr>\n",
       "      <th>157</th>\n",
       "      <td>2007-03-15 09:00:00</td>\n",
       "      <td>0.3</td>\n",
       "      <td>-0.5</td>\n",
       "      <td>NaN</td>\n",
       "      <td>0.3</td>\n",
       "    </tr>\n",
       "    <tr>\n",
       "      <th>158</th>\n",
       "      <td>2007-02-28 09:00:00</td>\n",
       "      <td>-0.5</td>\n",
       "      <td>0.0</td>\n",
       "      <td>NaN</td>\n",
       "      <td>-0.5</td>\n",
       "    </tr>\n",
       "  </tbody>\n",
       "</table>\n",
       "<p>159 rows × 5 columns</p>\n",
       "</div>"
      ],
      "text/plain": [
       "                   date  actual  previous  desv  cons\n",
       "0   2020-04-17 09:00:00     0.5       0.2   0.0   0.5\n",
       "1   2020-03-18 09:00:00     0.2      -1.0   0.0   0.2\n",
       "2   2020-02-21 09:00:00    -1.0       0.3   0.0  -1.0\n",
       "3   2020-01-17 09:00:00     0.3      -0.3   0.0   0.3\n",
       "4   2019-12-18 09:00:00    -0.3       0.1   0.0  -0.3\n",
       "..                  ...     ...       ...   ...   ...\n",
       "154 2007-06-14 09:00:00     0.2       0.6   NaN   0.3\n",
       "155 2007-05-16 09:00:00     0.6       0.7   NaN   0.5\n",
       "156 2007-04-16 09:00:00     0.7       0.3   NaN   0.6\n",
       "157 2007-03-15 09:00:00     0.3      -0.5   NaN   0.3\n",
       "158 2007-02-28 09:00:00    -0.5       0.0   NaN  -0.5\n",
       "\n",
       "[159 rows x 5 columns]"
      ]
     },
     "execution_count": 4,
     "metadata": {},
     "output_type": "execute_result"
    }
   ],
   "source": [
    "datos"
   ]
  },
  {
   "cell_type": "code",
   "execution_count": 5,
   "metadata": {},
   "outputs": [],
   "source": []
  },
  {
   "cell_type": "code",
   "execution_count": null,
   "metadata": {},
   "outputs": [],
   "source": [
    "datos['date'] = [dt.strptime(datos['date'][i], '%m/%d/%Y %H:%M:%S') for i in range(datos.shape[0])]\n",
    "datos"
   ]
  },
  {
   "cell_type": "code",
   "execution_count": 7,
   "metadata": {},
   "outputs": [
    {
     "data": {
      "text/html": [
       "<div>\n",
       "<style scoped>\n",
       "    .dataframe tbody tr th:only-of-type {\n",
       "        vertical-align: middle;\n",
       "    }\n",
       "\n",
       "    .dataframe tbody tr th {\n",
       "        vertical-align: top;\n",
       "    }\n",
       "\n",
       "    .dataframe thead th {\n",
       "        text-align: right;\n",
       "    }\n",
       "</style>\n",
       "<table border=\"1\" class=\"dataframe\">\n",
       "  <thead>\n",
       "    <tr style=\"text-align: right;\">\n",
       "      <th></th>\n",
       "      <th>TimeStamp</th>\n",
       "      <th>Open</th>\n",
       "      <th>High</th>\n",
       "      <th>Low</th>\n",
       "      <th>Close</th>\n",
       "    </tr>\n",
       "  </thead>\n",
       "  <tbody>\n",
       "    <tr>\n",
       "      <th>0</th>\n",
       "      <td>2020-04-17 13:01:00+00:00</td>\n",
       "      <td>1.08655</td>\n",
       "      <td>1.08664</td>\n",
       "      <td>1.08620</td>\n",
       "      <td>1.08636</td>\n",
       "    </tr>\n",
       "    <tr>\n",
       "      <th>1</th>\n",
       "      <td>2020-04-17 13:02:00+00:00</td>\n",
       "      <td>1.08634</td>\n",
       "      <td>1.08638</td>\n",
       "      <td>1.08618</td>\n",
       "      <td>1.08626</td>\n",
       "    </tr>\n",
       "    <tr>\n",
       "      <th>2</th>\n",
       "      <td>2020-04-17 13:03:00+00:00</td>\n",
       "      <td>1.08626</td>\n",
       "      <td>1.08658</td>\n",
       "      <td>1.08624</td>\n",
       "      <td>1.08656</td>\n",
       "    </tr>\n",
       "    <tr>\n",
       "      <th>3</th>\n",
       "      <td>2020-04-17 13:04:00+00:00</td>\n",
       "      <td>1.08656</td>\n",
       "      <td>1.08674</td>\n",
       "      <td>1.08646</td>\n",
       "      <td>1.08674</td>\n",
       "    </tr>\n",
       "    <tr>\n",
       "      <th>4</th>\n",
       "      <td>2020-04-17 13:05:00+00:00</td>\n",
       "      <td>1.08676</td>\n",
       "      <td>1.08696</td>\n",
       "      <td>1.08668</td>\n",
       "      <td>1.08668</td>\n",
       "    </tr>\n",
       "    <tr>\n",
       "      <th>...</th>\n",
       "      <td>...</td>\n",
       "      <td>...</td>\n",
       "      <td>...</td>\n",
       "      <td>...</td>\n",
       "      <td>...</td>\n",
       "    </tr>\n",
       "    <tr>\n",
       "      <th>25</th>\n",
       "      <td>2019-07-17 13:26:00+00:00</td>\n",
       "      <td>1.12166</td>\n",
       "      <td>1.12168</td>\n",
       "      <td>1.12161</td>\n",
       "      <td>1.12164</td>\n",
       "    </tr>\n",
       "    <tr>\n",
       "      <th>26</th>\n",
       "      <td>2019-07-17 13:27:00+00:00</td>\n",
       "      <td>1.12162</td>\n",
       "      <td>1.12162</td>\n",
       "      <td>1.12144</td>\n",
       "      <td>1.12144</td>\n",
       "    </tr>\n",
       "    <tr>\n",
       "      <th>27</th>\n",
       "      <td>2019-07-17 13:28:00+00:00</td>\n",
       "      <td>1.12146</td>\n",
       "      <td>1.12149</td>\n",
       "      <td>1.12144</td>\n",
       "      <td>1.12149</td>\n",
       "    </tr>\n",
       "    <tr>\n",
       "      <th>28</th>\n",
       "      <td>2019-07-17 13:29:00+00:00</td>\n",
       "      <td>1.12147</td>\n",
       "      <td>1.12147</td>\n",
       "      <td>1.12137</td>\n",
       "      <td>1.12137</td>\n",
       "    </tr>\n",
       "    <tr>\n",
       "      <th>29</th>\n",
       "      <td>2019-07-17 13:30:00+00:00</td>\n",
       "      <td>1.12140</td>\n",
       "      <td>1.12147</td>\n",
       "      <td>1.12138</td>\n",
       "      <td>1.12142</td>\n",
       "    </tr>\n",
       "  </tbody>\n",
       "</table>\n",
       "<p>150 rows × 5 columns</p>\n",
       "</div>"
      ],
      "text/plain": [
       "                   TimeStamp     Open     High      Low    Close\n",
       "0  2020-04-17 13:01:00+00:00  1.08655  1.08664  1.08620  1.08636\n",
       "1  2020-04-17 13:02:00+00:00  1.08634  1.08638  1.08618  1.08626\n",
       "2  2020-04-17 13:03:00+00:00  1.08626  1.08658  1.08624  1.08656\n",
       "3  2020-04-17 13:04:00+00:00  1.08656  1.08674  1.08646  1.08674\n",
       "4  2020-04-17 13:05:00+00:00  1.08676  1.08696  1.08668  1.08668\n",
       "..                       ...      ...      ...      ...      ...\n",
       "25 2019-07-17 13:26:00+00:00  1.12166  1.12168  1.12161  1.12164\n",
       "26 2019-07-17 13:27:00+00:00  1.12162  1.12162  1.12144  1.12144\n",
       "27 2019-07-17 13:28:00+00:00  1.12146  1.12149  1.12144  1.12149\n",
       "28 2019-07-17 13:29:00+00:00  1.12147  1.12147  1.12137  1.12137\n",
       "29 2019-07-17 13:30:00+00:00  1.12140  1.12147  1.12138  1.12142\n",
       "\n",
       "[150 rows x 5 columns]"
      ]
     },
     "execution_count": 7,
     "metadata": {},
     "output_type": "execute_result"
    }
   ],
   "source": [
    "param_data=df_A\n",
    "min30 = datetime.timedelta(minutes=32)\n",
    "min1 = datetime.timedelta(minutes=1)\n",
    "# token de OANDA\n",
    "OA_In = \"EUR_USD\"                  # Instrumento\n",
    "OA_Gn = \"M1\"   # Granularidad de velas\n",
    "fini = pd.to_datetime(param_data.iloc[0,0]+min1).tz_localize('GMT')  # Fecha inicial\n",
    "ffin = pd.to_datetime(param_data.iloc[0,0]+min30).tz_localize('GMT')  # Fecha final\n",
    "df_pe = pr.f_precios_masivos(p0_fini=fini, p1_ffin=ffin, p2_gran=OA_Gn,\n",
    "                                 p3_inst=OA_In, p4_oatk=OA_Ak, p5_ginc=4900)\n",
    "for i in range(5):\n",
    "    if i>0:\n",
    "        fini = pd.to_datetime(param_data.iloc[i,0]+min1).tz_localize('GMT')  # Fecha inicial\n",
    "        ffin = pd.to_datetime(param_data.iloc[i,0]+min30).tz_localize('GMT')  # Fecha final\n",
    "        df_pe1 = pr.f_precios_masivos(p0_fini=fini, p1_ffin=ffin, p2_gran=OA_Gn,\n",
    "                                 p3_inst=OA_In, p4_oatk=OA_Ak, p5_ginc=4900)\n",
    "        \n",
    "        df_pe=pd.concat([df_pe,df_pe1]) \n",
    "df_pe"
   ]
  },
  {
   "cell_type": "code",
   "execution_count": null,
   "metadata": {},
   "outputs": [],
   "source": [
    "df_A.iloc[1,0]"
   ]
  },
  {
   "cell_type": "code",
   "execution_count": null,
   "metadata": {},
   "outputs": [],
   "source": []
  }
 ],
 "metadata": {
  "kernelspec": {
   "display_name": "Python 3",
   "language": "python",
   "name": "python3"
  },
  "language_info": {
   "codemirror_mode": {
    "name": "ipython",
    "version": 3
   },
   "file_extension": ".py",
   "mimetype": "text/x-python",
   "name": "python",
   "nbconvert_exporter": "python",
   "pygments_lexer": "ipython3",
   "version": "3.7.1"
  }
 },
 "nbformat": 4,
 "nbformat_minor": 2
}
